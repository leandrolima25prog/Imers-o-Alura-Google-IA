{
  "nbformat": 4,
  "nbformat_minor": 0,
  "metadata": {
    "colab": {
      "provenance": [],
      "include_colab_link": true
    },
    "kernelspec": {
      "name": "python3",
      "display_name": "Python 3"
    },
    "language_info": {
      "name": "python"
    }
  },
  "cells": [
    {
      "cell_type": "markdown",
      "metadata": {
        "id": "view-in-github",
        "colab_type": "text"
      },
      "source": [
        "<a href=\"https://colab.research.google.com/github/leandrolima25prog/Imers-o-Alura-Google-IA/blob/main/Untitled18.ipynb\" target=\"_parent\"><img src=\"https://colab.research.google.com/assets/colab-badge.svg\" alt=\"Open In Colab\"/></a>"
      ]
    },
    {
      "cell_type": "code",
      "execution_count": 10,
      "metadata": {
        "id": "l_s5TQCJMX7T",
        "colab": {
          "base_uri": "https://localhost:8080/"
        },
        "outputId": "d230f96d-70be-44cb-e4d4-d1043b8d65cf"
      },
      "outputs": [
        {
          "output_type": "stream",
          "name": "stdout",
          "text": [
            "Requirement already satisfied: requests in /usr/local/lib/python3.11/dist-packages (2.32.3)\n",
            "Requirement already satisfied: beautifulsoup4 in /usr/local/lib/python3.11/dist-packages (4.13.4)\n",
            "Requirement already satisfied: lxml in /usr/local/lib/python3.11/dist-packages (5.4.0)\n",
            "Requirement already satisfied: charset-normalizer<4,>=2 in /usr/local/lib/python3.11/dist-packages (from requests) (3.4.2)\n",
            "Requirement already satisfied: idna<4,>=2.5 in /usr/local/lib/python3.11/dist-packages (from requests) (3.10)\n",
            "Requirement already satisfied: urllib3<3,>=1.21.1 in /usr/local/lib/python3.11/dist-packages (from requests) (2.4.0)\n",
            "Requirement already satisfied: certifi>=2017.4.17 in /usr/local/lib/python3.11/dist-packages (from requests) (2025.4.26)\n",
            "Requirement already satisfied: soupsieve>1.2 in /usr/local/lib/python3.11/dist-packages (from beautifulsoup4) (2.7)\n",
            "Requirement already satisfied: typing-extensions>=4.0.0 in /usr/local/lib/python3.11/dist-packages (from beautifulsoup4) (4.13.2)\n"
          ]
        }
      ],
      "source": [
        "!pip install requests beautifulsoup4 lxml\n",
        "import requests\n",
        "from bs4 import BeautifulSoup\n",
        "import re # Módulo para expressões regulares, útil para limpeza/busca\n",
        "import time # Para adicionar um pequeno atraso entre requisições (boa prática)"
      ]
    },
    {
      "cell_type": "code",
      "source": [
        "url = 'https://portal.ciee.org.br/quero-uma-vaga/'\n",
        "print(f\"Tentando acessar: {url}\")\n",
        "\n",
        "try:\n",
        "    response = requests.get(url)\n",
        "    response.raise_for_status()\n",
        "    print(\"Página acessada com sucesso!\")\n",
        "\n",
        "except requests.exceptions.RequestException as e:\n",
        "    print(f\"Erro ao acessar a página: {e}\")\n",
        "    response = None\n",
        "print(f\"Tentando acessar: {url}\")\n",
        "\n",
        "try:\n",
        "    response = requests.get(url)\n",
        "    response.raise_for_status()\n",
        "\n",
        "    print(\"Página acessada com sucesso!\")\n",
        "\n",
        "except requests.exceptions.RequestException as e:\n",
        "    print(f\"Erro ao acessar a página: {e}\")\n",
        "    response = None\n",
        "print(f\"Tentando acessar: {url}\")\n",
        "\n",
        "try:\n",
        "    response = requests.get(url)\n",
        "    response.raise_for_status()\n",
        "\n",
        "    print(\"Página acessada com sucesso!\")\n",
        "\n",
        "except requests.exceptions.RequestException as e:\n",
        "    print(f\"Erro ao acessar a página: {e}\")\n",
        "    response = None"
      ],
      "metadata": {
        "colab": {
          "base_uri": "https://localhost:8080/"
        },
        "id": "LBU73UG0QTiy",
        "outputId": "4969f6fc-b5a1-44b4-88c3-65f9f53ba38b"
      },
      "execution_count": 17,
      "outputs": [
        {
          "output_type": "stream",
          "name": "stdout",
          "text": [
            "Tentando acessar: https://portal.ciee.org.br/quero-uma-vaga/\n",
            "Página acessada com sucesso!\n",
            "Tentando acessar: https://portal.ciee.org.br/quero-uma-vaga/\n",
            "Página acessada com sucesso!\n",
            "Tentando acessar: https://portal.ciee.org.br/quero-uma-vaga/\n",
            "Página acessada com sucesso!\n"
          ]
        }
      ]
    },
    {
      "cell_type": "code",
      "source": [
        "soup = None # Inicializa soup como None\n",
        "\n",
        "if response:\n",
        "    soup = BeautifulSoup(response.text, 'lxml')\n",
        "    print(\"Conteúdo HTML analisado com sucesso!\")\n",
        "else:\n",
        "    print(\"Não foi possível analisar o conteúdo HTML.\")\n"
      ],
      "metadata": {
        "colab": {
          "base_uri": "https://localhost:8080/"
        },
        "id": "-tNkBP_uRh_z",
        "outputId": "71ef847d-16f4-4bcb-eaac-ff166683570a"
      },
      "execution_count": 12,
      "outputs": [
        {
          "output_type": "stream",
          "name": "stdout",
          "text": [
            "Conteúdo HTML analisado com sucesso!\n"
          ]
        }
      ]
    },
    {
      "cell_type": "code",
      "source": [
        "vagas_encontradas_raw = [] # Lista para armazenar os dados brutos das vagas\n",
        "\n",
        "if soup:\n",
        "    job_elements = soup.find_all('div', class_='job-card')\n",
        "\n",
        "    print(f\"Encontrados {len(job_elements)} elementos que parecem ser vagas.\")\n",
        "\n",
        "    for job_element in job_elements:\n",
        "        try:\n",
        "            title_element = job_element.find('h2', class_='job-title')\n",
        "            title = title_element.text.strip() if title_element else 'Sem título'\n",
        "            company_element = job_element.find('p', class_='company')\n",
        "            company = company_element.text.strip() if company_element else 'Empresa não informada'\n",
        "            link_element = job_element.find('a', class_='job-link')\n",
        "            link = link_element['href'] if link_element and 'href' in link_element.attrs else 'Sem link'\n",
        "            description_element = job_element.find('p', class_='description')\n",
        "            description = description_element.text.strip() if description_element else 'Sem descrição'\n",
        "            vagas_encontradas_raw.append({\n",
        "                'titulo': title,\n",
        "                'empresa': company,\n",
        "                'link': link,\n",
        "                'descricao': description\n",
        "            })\n",
        "\n",
        "        except Exception as e:\n",
        "            print(f\"Erro ao extrair dados de um elemento de vaga: {e}\")\n",
        "\n",
        "    print(f\"Extração concluída. Total de vagas extraídas: {len(vagas_encontradas_raw)}\")\n",
        "\n",
        "else:\n",
        "    print(\"Não foi possível extrair as vagas pois a análise falhou.\")\n"
      ],
      "metadata": {
        "colab": {
          "base_uri": "https://localhost:8080/"
        },
        "id": "PHmXZxiIRtdy",
        "outputId": "23b4c0a1-0e50-438b-ab73-9c1cb5a084d9"
      },
      "execution_count": 18,
      "outputs": [
        {
          "output_type": "stream",
          "name": "stdout",
          "text": [
            "Encontrados 0 elementos que parecem ser vagas.\n",
            "Extração concluída. Total de vagas extraídas: 0\n"
          ]
        }
      ]
    },
    {
      "cell_type": "code",
      "source": [
        "\n",
        "vagas_filtradas = []\n",
        "\n",
        "if vagas_encontradas_raw:\n",
        "    print(f\"\\nTotal de vagas brutas extraídas: {len(vagas_encontradas_raw)}\")\n",
        "    keywords_input_string = input(\"Digite as palavras-chave para buscar vagas (separe por espaço): \")\n",
        "    keywords = [kw.strip() for kw in keywords_input_string.split() if kw.strip()]\n",
        "    keywords_lower = [kw.lower() for kw in keywords]\n",
        "    print(f\"Buscando por vagas que contenham TODAS as palavras: {keywords}\")\n",
        "\n",
        "\n",
        "    if not keywords:\n",
        "        print(\"Nenhuma palavra-chave digitada. Exibindo todas as vagas extraídas (sem filtro).\")\n",
        "        vagas_filtradas = vagas_encontradas_raw\n",
        "    else:\n",
        "        for vaga in vagas_encontradas_raw:\n",
        "            texto_vaga = f\"{vaga.get('titulo', '')} {vaga.get('descricao', '')} {vaga.get('empresa', '')}\".lower()\n",
        "            match = all(keyword_lower in texto_vaga for keyword_lower in keywords_lower)\n",
        "            if match:\n",
        "                vagas_filtradas.append(vaga)\n",
        "\n",
        "        print(f\"Total de vagas filtradas encontradas: {len(vagas_filtradas)}\")\n",
        "\n",
        "else:\n",
        "    print(\"Não há vagas brutas para filtrar (talvez o scraping falhou).\")\n"
      ],
      "metadata": {
        "colab": {
          "base_uri": "https://localhost:8080/"
        },
        "id": "yyl-3wSPSYLO",
        "outputId": "afe7ec71-7bb1-4add-8b59-cf61bd6603be"
      },
      "execution_count": 19,
      "outputs": [
        {
          "output_type": "stream",
          "name": "stdout",
          "text": [
            "Não há vagas brutas para filtrar (talvez o scraping falhou).\n"
          ]
        }
      ]
    },
    {
      "cell_type": "code",
      "source": [
        "if vagas_filtradas:\n",
        "    print(\"\\nVagas de Estágio Encontradas (Filtradas):\")\n",
        "    print(\"=\"*40)\n",
        "\n",
        "    for i, vaga in enumerate(vagas_filtradas):\n",
        "        print(f\"Vaga {i+1}:\")\n",
        "        print(f\"  Título: {vaga.get('titulo', 'N/A')}\")\n",
        "        print(f\"  Empresa: {vaga.get('empresa', 'N/A')}\")\n",
        "        print(f\"  Link: {vaga.get('link', 'N/A')}\")\n",
        "        print(\"-\" * 20)\n",
        "\n",
        "else:\n",
        "    print(\"\\nNenhuma vaga encontrada com os critérios de filtro especificados.\")"
      ],
      "metadata": {
        "colab": {
          "base_uri": "https://localhost:8080/"
        },
        "id": "0uXfzPGRSye_",
        "outputId": "f50e4f81-2e9d-46dc-a3b0-31d460c968b9"
      },
      "execution_count": 20,
      "outputs": [
        {
          "output_type": "stream",
          "name": "stdout",
          "text": [
            "\n",
            "Nenhuma vaga encontrada com os critérios de filtro especificados.\n"
          ]
        }
      ]
    }
  ]
}